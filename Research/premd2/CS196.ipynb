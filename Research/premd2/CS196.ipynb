{
    "cells": [
        {
            "cell_type": "code",
            "execution_count": 22,
            "source": [
                "import speech_recognition as sr\n",
                "from vaderSentiment.vaderSentiment import SentimentIntensityAnalyzer"
            ],
            "outputs": [],
            "metadata": {}
        },
        {
            "cell_type": "code",
            "execution_count": 26,
            "source": [
                "recognizer = sr.Recognizer()\n",
                "with sr.Microphone() as source:\n",
                "    print(\"Clearing background noise...\")\n",
                "    recognizer.adjust_for_ambient_noise(source, duration=1)\n",
                "    print(\"Waiting for your message...\")\n",
                "    recordedAudio = recognizer.listen(source)\n",
                "    print(\"Done Recording...\")"
            ],
            "outputs": [
                {
                    "output_type": "stream",
                    "name": "stdout",
                    "text": [
                        "Clearing background noise...\n",
                        "Waiting for your message...\n",
                        "Done Recording...\n"
                    ]
                }
            ],
            "metadata": {}
        },
        {
            "cell_type": "code",
            "execution_count": 27,
            "source": [
                "try:\n",
                "    print(\"Printing the message\")\n",
                "    text = recognizer.recognize_google(recordedAudio, language=\"en-US\")\n",
                "    print(\"Your Message:{}\".format(text))\n",
                "except Exception as ex:\n",
                "    print(ex)\n",
                "    "
            ],
            "outputs": [
                {
                    "output_type": "stream",
                    "name": "stdout",
                    "text": [
                        "Printing the message\n",
                        "Your Message:Maria\n"
                    ]
                }
            ],
            "metadata": {}
        },
        {
            "cell_type": "code",
            "execution_count": 28,
            "source": [
                "Sentence = [str(text)]\n",
                "analyser = SentimentIntensityAnalyzer()\n",
                "for i in Sentence:\n",
                "    v = analyser.polarity_scores(i)\n",
                "    print(v)"
            ],
            "outputs": [
                {
                    "output_type": "stream",
                    "name": "stdout",
                    "text": [
                        "{'neg': 0.0, 'neu': 1.0, 'pos': 0.0, 'compound': 0.0}\n"
                    ]
                }
            ],
            "metadata": {}
        },
        {
            "cell_type": "code",
            "execution_count": null,
            "source": [],
            "outputs": [],
            "metadata": {}
        }
    ],
    "metadata": {
        "orig_nbformat": 4,
        "language_info": {
            "name": "python",
            "version": "3.9.7",
            "mimetype": "text/x-python",
            "codemirror_mode": {
                "name": "ipython",
                "version": 3
            },
            "pygments_lexer": "ipython3",
            "nbconvert_exporter": "python",
            "file_extension": ".py"
        },
        "kernelspec": {
            "name": "python3",
            "display_name": "Python 3.9.7 64-bit ('data-preprocessing': conda)"
        },
        "interpreter": {
            "hash": "176cf2216a01920b08f982334f3ae8867c85f7265af7c64e7ebcfa2b1b9b4d01"
        }
    },
    "nbformat": 4,
    "nbformat_minor": 2
}